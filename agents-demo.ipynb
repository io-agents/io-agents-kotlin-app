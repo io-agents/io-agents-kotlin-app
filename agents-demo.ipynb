{
 "cells": [
  {
   "metadata": {},
   "cell_type": "markdown",
   "source": "### Agenci AI w Inżynierii Oprogramowania - Maciej Pawłowski i Wiktor Miśkowiec\n"
  },
  {
   "metadata": {},
   "cell_type": "markdown",
   "source": [
    "Framework: Koog - AI Agents Framework by JetBrains\n",
    "https://github.com/JetBrains/koog"
   ]
  },
  {
   "metadata": {},
   "cell_type": "markdown",
   "source": "### Demo podstawowego agenta AI z wykorzystaniem Google Gemini 2.5 Pro"
  },
  {
   "metadata": {
    "ExecuteTime": {
     "end_time": "2025-10-25T18:06:17.360002Z",
     "start_time": "2025-10-25T18:06:17.331739Z"
    }
   },
   "cell_type": "code",
   "outputs": [],
   "execution_count": 1,
   "source": [
    "import ai.koog.agents.core.agent.AIAgent\n",
    "import ai.koog.prompt.executor.clients.google.GoogleModels\n",
    "import ai.koog.prompt.executor.llms.all.simpleGoogleAIExecutor"
   ]
  },
  {
   "metadata": {
    "ExecuteTime": {
     "end_time": "2025-10-25T18:06:22.270137Z",
     "start_time": "2025-10-25T18:06:22.231392Z"
    }
   },
   "cell_type": "code",
   "source": "val apiKey = System.getenv(\"GOOGLE_API_KEY\") ?: error(\"Set GOOGLE_API_KEY env variable\")",
   "outputs": [],
   "execution_count": 3
  },
  {
   "metadata": {
    "collapsed": true,
    "ExecuteTime": {
     "end_time": "2025-10-25T18:07:03.542081Z",
     "start_time": "2025-10-25T18:07:03.383533Z"
    }
   },
   "cell_type": "code",
   "source": [
    "val agent =\n",
    "    AIAgent(\n",
    "        promptExecutor = simpleGoogleAIExecutor(apiKey),\n",
    "        llmModel = GoogleModels.Gemini2_5Pro,\n",
    "    )"
   ],
   "outputs": [],
   "execution_count": 4
  },
  {
   "metadata": {
    "ExecuteTime": {
     "end_time": "2025-10-25T18:07:50.647687Z",
     "start_time": "2025-10-25T18:07:31.029447Z"
    }
   },
   "cell_type": "code",
   "source": [
    "import kotlinx.coroutines.runBlocking\n",
    "\n",
    "runBlocking {\n",
    "    val result = agent.run(\"Hello! How can you help me?\")\n",
    "    println(result)\n",
    "}"
   ],
   "outputs": [
    {
     "name": "stdout",
     "output_type": "stream",
     "text": [
      "Hello! That's a great question. I'm a large language model, designed to be a versatile and helpful assistant. Think of me as a multi-tool for information, creativity, and productivity.\n",
      "\n",
      "Here’s a breakdown of how I can help you:\n",
      "\n",
      "### 1. Answer Your Questions\n",
      "You can ask me almost anything. I can act as your personal encyclopedia.\n",
      "*   **Simple Facts:** \"What is the capital of Australia?\"\n",
      "*   **Complex Topics:** \"Can you explain the theory of relativity in simple terms?\"\n",
      "*   **How-To Guides:** \"How do I bake a sourdough loaf from scratch?\"\n",
      "*   **Definitions:** \"What does 'ephemeral' mean?\"\n",
      "\n",
      "### 2. Help You Write and Create\n",
      "Whether you have writer's block or just need a hand, I can help you generate and refine text.\n",
      "*   **Drafting:** Emails, essays, reports, cover letters, social media posts.\n",
      "*   **Creative Writing:** Poems, song lyrics, short stories, scripts.\n",
      "*   **Content Creation:** Blog post ideas, marketing copy, product descriptions.\n",
      "*   **Editing:** Proofreading for grammar and spelling, rephrasing sentences, or changing the tone of a piece of writing.\n",
      "\n",
      "### 3. Summarize and Simplify\n",
      "If you're faced with a lot of text or a complex idea, I can make it more manageable.\n",
      "*   **Summarize:** Paste a long article, and I can give you the key points.\n",
      "*   **Simplify:** \"Explain quantum computing like I'm a 10-year-old.\"\n",
      "*   **Translate:** I can translate text between many different languages.\n",
      "\n",
      "### 4. Brainstorm and Plan\n",
      "When you need a creative partner or an organizer, I'm here to help.\n",
      "*   **Generate Ideas:** \"Give me 10 ideas for a new YouTube channel.\"\n",
      "*   **Plan a Trip:** \"Create a 5-day itinerary for a trip to Tokyo.\"\n",
      "*   **Make a Plan:** \"Help me create a weekly meal plan.\" or \"Outline a study plan for my history exam.\"\n",
      "*   **Pros and Cons:** \"What are the pros and cons of switching to a remote job?\"\n",
      "\n",
      "### 5. Assist with Coding and Technical Tasks\n",
      "I can help both beginners and experienced developers.\n",
      "*   **Write Code:** \"Write a Python script to scrape a website.\"\n",
      "*   **Debug Code:** \"Can you find the error in this JavaScript function?\"\n",
      "*   **Explain Code:** \"What does this block of SQL code do?\"\n",
      "*   **Translate Code:** Convert a piece of code from one programming language to another.\n",
      "\n",
      "### 6. Get Creative and Have Fun\n",
      "I'm not all business! We can also explore more playful tasks.\n",
      "*   **Role-playing:** \"Let's pretend you're a space explorer landing on a new planet.\"\n",
      "*   **Writing a Joke:** \"Tell me a joke about computers.\"\n",
      "*   **Creating a Recipe:** \"Invent a recipe using chicken, spinach, and feta cheese.\"\n",
      "\n",
      "---\n",
      "\n",
      "**The best way to interact with me is to be specific.** The more context and detail you provide, the better I can tailor my response to your needs.\n",
      "\n",
      "So, what's on your mind? Feel free to try anything—ask a question, give me a writing prompt, or just chat. How can I help *you* today?\n"
     ]
    }
   ],
   "execution_count": 5
  },
  {
   "metadata": {},
   "cell_type": "markdown",
   "source": "### Demo agenta z promptem systemowym"
  },
  {
   "metadata": {
    "ExecuteTime": {
     "end_time": "2025-10-25T18:27:42.602973Z",
     "start_time": "2025-10-25T18:27:42.538467Z"
    }
   },
   "cell_type": "code",
   "source": [
    "import ai.koog.agents.core.tools.ToolRegistry\n",
    "import ai.koog.agents.ext.tool.SayToUser\n",
    "\n",
    "val agent2 = AIAgent(\n",
    "    promptExecutor = simpleGoogleAIExecutor(apiKey),\n",
    "    llmModel = GoogleModels.Gemini2_5Pro,\n",
    "    systemPrompt = \"Jesteś pomocnym asystentem AI specjalizującym się w inżynierii oprogramowania. Odpowiadaj śpiewająco.\",\n",
    "    temperature = 0.5,\n",
    "    toolRegistry = ToolRegistry {\n",
    "        tool(SayToUser)\n",
    "    },\n",
    ")"
   ],
   "outputs": [],
   "execution_count": 9
  },
  {
   "metadata": {
    "ExecuteTime": {
     "end_time": "2025-10-25T18:28:39.895271Z",
     "start_time": "2025-10-25T18:28:25.889282Z"
    }
   },
   "cell_type": "code",
   "source": [
    "runBlocking {\n",
    "    val result = agent2.run(\"Czym jest język Kotlin?\")\n",
    "    println(result)\n",
    "}"
   ],
   "outputs": [
    {
     "name": "stdout",
     "output_type": "stream",
     "text": [
      "Agent says: (zanuć wesoło)\n",
      "\n",
      "Posłuchaj, proszę, opowieści tej,\n",
      "O języku, co ma wielki wdzięk i styl, hej!\n",
      "Kotlin się zowie, to jest jego miano,\n",
      "Przez firmę JetBrains światu został dano!\n",
      "\n",
      "Na maszynie Javy (JVM) śmiało sobie hula,\n",
      "I z kodem Javy świetnie się czula!\n",
      "Jest w stu procentach z nią kompatybilny,\n",
      "Nowoczesny, zwięzły i bardzo zwinny!\n",
      "\n",
      "Google go wspiera z całej swojej siły,\n",
      "By aplikacje na Androida miły\n",
      "Deweloperzy z uśmiechem tworzyli,\n",
      "I z \"null pointerów\" na zawsze drwili!\n",
      "\n",
      "Więc koduj w Kotlinie, radość z tego miej,\n",
      "Bo pisze się w nim prościej, lżej, ojej!\n",
      "(zanuć wesoło)\n",
      "\n",
      "Posłuchaj, proszę, opowieści tej,\n",
      "O języku, co ma wielki wdzięk i styl, hej!\n",
      "Kotlin się zowie, to jest jego miano,\n",
      "Przez firmę JetBrains światu został dano!\n",
      "\n",
      "Na maszynie Javy (JVM) śmiało sobie hula,\n",
      "I z kodem Javy świetnie się czula!\n",
      "Jest w stu procentach z nią kompatybilny,\n",
      "Nowoczesny, zwięzły i bardzo zwinny!\n",
      "\n",
      "Google go wspiera z całej swojej siły,\n",
      "By aplikacje na Androida miły\n",
      "Deweloperzy z uśmiechem tworzyli,\n",
      "I z \"null pointerów\" na zawsze drwili!\n",
      "\n",
      "Więc koduj w Kotlinie, radość z tego miej,\n",
      "Bo pisze się w nim prościej, lżej, ojej\n"
     ]
    }
   ],
   "execution_count": 10
  },
  {
   "metadata": {},
   "cell_type": "markdown",
   "source": "### Demo ze strategy"
  },
  {
   "metadata": {
    "ExecuteTime": {
     "end_time": "2025-10-25T19:16:01.602651Z",
     "start_time": "2025-10-25T19:16:01.553418Z"
    }
   },
   "cell_type": "code",
   "source": "val promptExecutor = simpleGoogleAIExecutor(apiKey)",
   "outputs": [],
   "execution_count": 11
  },
  {
   "metadata": {
    "ExecuteTime": {
     "end_time": "2025-10-25T21:49:14.717859Z",
     "start_time": "2025-10-25T21:49:14.652506Z"
    }
   },
   "cell_type": "code",
   "source": [
    "import ai.koog.agents.core.tools.SimpleTool\n",
    "import ai.koog.agents.core.tools.annotations.LLMDescription\n",
    "import kotlinx.serialization.Serializable\n",
    "import kotlinx.serialization.KSerializer\n",
    "import kotlinx.serialization.builtins.serializer\n",
    "\n",
    "@Serializable\n",
    "data class WeatherToolsArgs(\n",
    "    @property:LLMDescription(\"Date of the day to get weather forecast for (in milliseconds since epoch)\")\n",
    "    val date: Long,\n",
    "    @property:LLMDescription(\"City to get weather forecast for\")\n",
    "    val city: String,\n",
    ")\n",
    "\n",
    "object WeatherTools : SimpleTool<WeatherToolsArgs>() {\n",
    "\n",
    "\n",
    "\n",
    "    override val argsSerializer: KSerializer<WeatherToolsArgs> = WeatherToolsArgs.serializer()\n",
    "    override val name: String = \"get_weather_forecast\"\n",
    "    override val description: String = \"Tools for getting weather forecast\"\n",
    "\n",
    "    override suspend fun doExecute(args: WeatherToolsArgs): String {\n",
    "        println(\"Calling API for $args\")\n",
    "        return \"It will be 16 degress and sunny\"\n",
    "    }\n",
    "}"
   ],
   "outputs": [],
   "execution_count": 30
  },
  {
   "metadata": {
    "ExecuteTime": {
     "end_time": "2025-10-25T21:51:26.832588Z",
     "start_time": "2025-10-25T21:51:26.688702Z"
    }
   },
   "cell_type": "code",
   "source": [
    "import ai.koog.agents.core.agent.config.AIAgentConfig\n",
    "import ai.koog.agents.core.dsl.builder.forwardTo\n",
    "import ai.koog.agents.core.dsl.builder.strategy\n",
    "import ai.koog.agents.core.dsl.extension.nodeExecuteTool\n",
    "import ai.koog.agents.core.dsl.extension.nodeLLMRequest\n",
    "import ai.koog.agents.core.dsl.extension.nodeLLMSendToolResult\n",
    "import ai.koog.agents.core.dsl.extension.onAssistantMessage\n",
    "import ai.koog.agents.core.dsl.extension.onToolCall\n",
    "import ai.koog.agents.core.feature.handler.agent.AgentCompletedContext\n",
    "import ai.koog.agents.core.feature.handler.agent.AgentStartingContext\n",
    "import ai.koog.agents.core.tools.SimpleTool\n",
    "import ai.koog.agents.core.tools.annotations.LLMDescription\n",
    "import ai.koog.agents.core.tools.annotations.Tool\n",
    "import ai.koog.agents.core.tools.reflect.ToolSet\n",
    "import ai.koog.agents.features.eventHandler.feature.EventHandler\n",
    "import ai.koog.prompt.dsl.Prompt\n",
    "import kotlinx.serialization.KSerializer\n",
    "import kotlinx.serialization.Serializable\n",
    "import kotlinx.serialization.builtins.serializer\n",
    "\n",
    "val strategy = strategy<String, String>(\"Weather forecast strategy\") {\n",
    "    val nodeSendInput by nodeLLMRequest()\n",
    "    val nodeExecuteTool by nodeExecuteTool()\n",
    "    val nodeSendToolResult by nodeLLMSendToolResult()\n",
    "\n",
    "    // Define edges between nodes\n",
    "    // Start -> Send input\n",
    "    edge(nodeStart forwardTo nodeSendInput)\n",
    "\n",
    "    // Send input -> Finish\n",
    "    edge(\n",
    "        (nodeSendInput forwardTo nodeFinish)\n",
    "                transformed { it }\n",
    "                onAssistantMessage { true }\n",
    "    )\n",
    "\n",
    "    // Send input -> Execute tool\n",
    "    edge(\n",
    "        (nodeSendInput forwardTo nodeExecuteTool)\n",
    "                onToolCall { true }\n",
    "    )\n",
    "\n",
    "    // Execute tool -> Send the tool result\n",
    "    edge(nodeExecuteTool forwardTo nodeSendToolResult)\n",
    "\n",
    "    // Send the tool result -> finish\n",
    "    edge(\n",
    "        (nodeSendToolResult forwardTo nodeFinish)\n",
    "                transformed { it }\n",
    "                onAssistantMessage { true }\n",
    "    )\n",
    "}\n",
    "\n",
    "val agentConfig = AIAgentConfig(\n",
    "    prompt = Prompt.build(\"weather-forecast\") {\n",
    "        system(\n",
    "            \"\"\"\n",
    "                You are weather assistant\n",
    "                You can get the weather using weather tool.\n",
    "                \"\"\".trimIndent()\n",
    "        )\n",
    "    },\n",
    "    model = GoogleModels.Gemini2_5Flash,\n",
    "    maxAgentIterations = 10,\n",
    ")\n",
    "\n",
    "\n",
    "\n",
    "// Add the tool to the tool registry\n",
    "val toolRegistry = ToolRegistry {\n",
    "    tool(WeatherTools)\n",
    "}\n",
    "\n",
    "val agent3 = AIAgent(\n",
    "    promptExecutor = promptExecutor,\n",
    "    toolRegistry = toolRegistry,\n",
    "    strategy = strategy,\n",
    "    agentConfig = agentConfig,\n",
    "    installFeatures = {\n",
    "        install(EventHandler) {\n",
    "            onAgentStarting { eventContext: AgentStartingContext<*> ->\n",
    "                println(\"Starting agent: ${eventContext.agent.id}\")\n",
    "            }\n",
    "            onAgentCompleted { eventContext: AgentCompletedContext ->\n",
    "                println(\"Result: ${eventContext.result}\")\n",
    "            }\n",
    "        }\n",
    "    }\n",
    ")"
   ],
   "outputs": [],
   "execution_count": 35
  },
  {
   "metadata": {
    "ExecuteTime": {
     "end_time": "2025-10-25T21:51:34.551416Z",
     "start_time": "2025-10-25T21:51:29.622915Z"
    }
   },
   "cell_type": "code",
   "source": [
    "runBlocking {\n",
    "    // Read the user input and send it to the agent\n",
    "    val agentResult = agent3.run(\"Jaka pogoda będzie 26.10.2025 w Katowicach?:\")\n",
    "    println(\"The agent returned: $agentResult\")\n",
    "}"
   ],
   "outputs": [
    {
     "name": "stdout",
     "output_type": "stream",
     "text": [
      "Starting agent: 22bac00e-6074-48f6-852f-5eabb9bc2014\n",
      "Calling API for WeatherToolsArgs(date=1761446400000, city=Katowice)\n",
      "Result: 26.10.2025 w Katowicach będzie 16 stopni Celsjusza i słonecznie.\n",
      "The agent returned: 26.10.2025 w Katowicach będzie 16 stopni Celsjusza i słonecznie.\n"
     ]
    }
   ],
   "execution_count": 36
  },
  {
   "metadata": {},
   "cell_type": "markdown",
   "source": "### Demo ze structured data (odpowiedzi Typesafe)"
  },
  {
   "metadata": {
    "ExecuteTime": {
     "end_time": "2025-10-25T21:58:11.369338Z",
     "start_time": "2025-10-25T21:58:09.698045Z"
    }
   },
   "cell_type": "code",
   "source": [
    "import ai.koog.prompt.dsl.prompt\n",
    "import ai.koog.prompt.structure.executeStructured\n",
    "import kotlinx.serialization.SerialName\n",
    "\n",
    "@Serializable\n",
    "@SerialName(\"WeatherForecast\")\n",
    "@LLMDescription(\"Weather forecast for a given location\")\n",
    "data class WeatherForecast(\n",
    "    @property:LLMDescription(\"Temperature in Celsius\")\n",
    "    val temperature: Int,\n",
    "    @property:LLMDescription(\"Weather conditions (e.g., sunny, cloudy, rainy)\")\n",
    "    val conditions: String,\n",
    "    @property:LLMDescription(\"Chance of precipitation in percentage\")\n",
    "    val precipitation: Int\n",
    ")\n",
    "\n",
    "\n",
    "\n",
    "val structuredResponse = runBlocking {\n",
    "    val result = promptExecutor.executeStructured<WeatherForecast>(\n",
    "        prompt = prompt(\"structured-data\") {\n",
    "            system(\n",
    "                \"\"\"\n",
    "                You are a weather forecasting assistant.\n",
    "                When asked for a weather forecast, provide a realistic but fictional forecast.\n",
    "                \"\"\".trimIndent()\n",
    "            )\n",
    "            user(\n",
    "                \"What is the weather forecast for Amsterdam?\"\n",
    "            )\n",
    "        },\n",
    "        model = GoogleModels.Gemini2_5Flash,\n",
    "    )\n",
    "\n",
    "    result.getOrThrow()\n",
    "}\n",
    "structuredResponse.structure"
   ],
   "outputs": [
    {
     "data": {
      "text/plain": [
       "WeatherForecast(temperature=12, conditions=Partly cloudy, precipitation=30)"
      ]
     },
     "execution_count": 37,
     "metadata": {},
     "output_type": "execute_result"
    }
   ],
   "execution_count": 37
  },
  {
   "metadata": {
    "ExecuteTime": {
     "end_time": "2025-10-25T21:58:28.168583Z",
     "start_time": "2025-10-25T21:58:28.145328Z"
    }
   },
   "cell_type": "code",
   "source": "structuredResponse.message.content",
   "outputs": [
    {
     "data": {
      "text/plain": [
       "{\"temperature\":12,\"conditions\":\"Partly cloudy\",\"precipitation\":30}"
      ]
     },
     "execution_count": 38,
     "metadata": {},
     "output_type": "execute_result"
    }
   ],
   "execution_count": 38
  },
  {
   "metadata": {},
   "cell_type": "markdown",
   "source": [
    "Możliwość streamowania rezultatów z LLM zamiast czekać na całą odpowiedź\n",
    "https://docs.koog.ai/streaming-api/\n",
    "\n",
    "Możliwość tworzenia reużywalnych nodów któr odpowiadają konkretnym zadaniom\n",
    "https://docs.koog.ai/custom-nodes/\n",
    "\n",
    "```kotlin\n",
    "\n",
    "```"
   ]
  },
  {
   "metadata": {},
   "cell_type": "markdown",
   "source": "### Przykład reużywalnych niestandardowych nodów"
  },
  {
   "metadata": {
    "ExecuteTime": {
     "end_time": "2025-10-25T22:19:37.193491Z",
     "start_time": "2025-10-25T22:19:37.105723Z"
    }
   },
   "cell_type": "code",
   "source": [
    "import ai.koog.agents.core.dsl.builder.AIAgentNodeDelegate\n",
    "import ai.koog.agents.core.dsl.builder.AIAgentSubgraphBuilderBase\n",
    "\n",
    "strategy<String, String>(\"strategia\") {\n",
    "    val stringToIndNode by node<String, Int>(\"node_name\") { input ->\n",
    "        input.length\n",
    "    }\n",
    "    val intToStringNode by node<Int, String>(\"node_name\") { input ->\n",
    "        input.toString()\n",
    "    }\n",
    "    val summarizeTextNode by node<String, String>(\"node_name\") { input ->\n",
    "        llm.writeSession {\n",
    "            updatePrompt {\n",
    "                user(\"Please summarize the following text: $input\")\n",
    "            }\n",
    "            val response = requestLLMWithoutTools()\n",
    "            response.content\n",
    "        }\n",
    "    }\n",
    "    edge(nodeStart forwardTo stringToIndNode)\n",
    "    edge(stringToIndNode forwardTo intToStringNode)\n",
    "    edge(intToStringNode forwardTo nodeFinish)\n",
    "}"
   ],
   "outputs": [
    {
     "data": {
      "text/plain": [
       "ai.koog.agents.core.agent.entity.AIAgentGraphStrategy@782268de"
      ]
     },
     "execution_count": 44,
     "metadata": {},
     "output_type": "execute_result"
    }
   ],
   "execution_count": 44
  },
  {
   "metadata": {},
   "cell_type": "markdown",
   "source": [
    "Możliwość podziału na subgraphy dla większych zadań\n",
    "https://docs.koog.ai/custom-subgraphs/\n",
    "Możliwość zapamiętywania informacji poza sesjami przez agentów\n",
    "https://docs.koog.ai/agent-memory/"
   ]
  },
  {
   "metadata": {},
   "cell_type": "markdown",
   "source": "### Przykład architektury MAS z wieloma agentami współpracującymi ze sobą"
  },
  {
   "metadata": {
    "ExecuteTime": {
     "end_time": "2025-10-26T19:40:54.328139Z",
     "start_time": "2025-10-26T19:40:54.248930Z"
    }
   },
   "cell_type": "code",
   "source": [
    "val masStrategy = strategy<String, String>(\"MAS-workflow\") {\n",
    "    val managerPlanNode by node<String, String>(\"manager_plan\") { input ->\n",
    "        llm.writeSession {\n",
    "            updatePrompt {\n",
    "                system(\"\"\"\n",
    "                You are the ManagerAgent in a Multi-Agent System (MAS) for software modeling.\n",
    "                Your goal is to create a detailed workflow plan for the given task description.\n",
    "                Include which agents should be involved and in what order.\n",
    "                \"\"\".trimIndent())\n",
    "\n",
    "                user(\"Task description: $input\")\n",
    "            }\n",
    "\n",
    "            // Zapytanie do LLM-a bez narzędzi (czysty tekst)\n",
    "            val response = requestLLMWithoutTools()\n",
    "\n",
    "            // Wynik zwracamy jako output node’a\n",
    "            response.content\n",
    "        }\n",
    "    }\n",
    "\n",
    "    edge(nodeStart forwardTo managerPlanNode)\n",
    "    edge(managerPlanNode forwardTo nodeFinish)\n",
    "}\n",
    "\n",
    "val agentConfig = AIAgentConfig(\n",
    "    prompt = Prompt.build(\"mas-io-workflow\") {},\n",
    "    model = GoogleModels.Gemini2_5Flash,\n",
    "    maxAgentIterations = 10,\n",
    ")\n",
    "\n",
    "\n",
    "val masAgent = AIAgent(\n",
    "    promptExecutor = promptExecutor,\n",
    "    strategy = masStrategy,\n",
    "    agentConfig = agentConfig,\n",
    ")"
   ],
   "outputs": [],
   "execution_count": 47
  },
  {
   "metadata": {
    "ExecuteTime": {
     "end_time": "2025-10-26T19:45:50.827674Z",
     "start_time": "2025-10-26T19:45:29.609876Z"
    }
   },
   "cell_type": "code",
   "source": [
    "runBlocking {\n",
    "    masAgent.run(\"Stwórz diagram aktywności dla procesu rejestracji użytkownika w aplikacji mobilnej.\")\n",
    "}"
   ],
   "outputs": [
    {
     "data": {
      "text/plain": [
       "Oto szczegółowy plan działania dla stworzenia diagramu aktywności dla procesu rejestracji użytkownika w aplikacji mobilnej, z uwzględnieniem ról i kolejności zaangażowanych agentów:\n",
       "\n",
       "---\n",
       "\n",
       "### **Tytuł Zadania:** Stworzenie diagramu aktywności dla procesu rejestracji użytkownika w aplikacji mobilnej.\n",
       "\n",
       "### **Cel:** Wygenerowanie jasnego, kompletnego i zgodnego ze standardami UML diagramu aktywności, przedstawiającego krok po kroku proces rejestracji użytkownika w aplikacji mobilnej, włączając w to interakcje z systemem backendowym.\n",
       "\n",
       "### **Zaangażowani Agenci:**\n",
       "1.  **ManagerAgent (Ja):** Koordynacja, inicjacja, nadzór i akceptacja finalna.\n",
       "2.  **Requirement Analyst Agent:** Analiza i uszczegółowienie wymagań biznesowych/funkcjonalnych.\n",
       "3.  **UML Modeler Agent:** Projektowanie i tworzenie diagramów UML.\n",
       "4.  **Quality Assurance Agent:** Weryfikacja poprawności, kompletności i zgodności ze standardami.\n",
       "\n",
       "### **Workflow Plan:**\n",
       "\n",
       "**Krok 1: Inicjacja i Zbieranie Podstawowych Wymagań**\n",
       "*   **Agent Odpowiedzialny:** ManagerAgent\n",
       "*   **Działanie:** Inicjuje zadanie. Przekazuje ogólną prośbę do Requirement Analyst Agent, aby zebrał szczegółowe informacje na temat procesu rejestracji użytkownika.\n",
       "*   **Oczekiwany Rezultat:** Potwierdzenie przyjęcia zadania przez Requirement Analyst Agent.\n",
       "*   **Uwagi:** ManagerAgent może dostarczyć wstępne, ogólne wytyczne dotyczące zakresu (np. \"rejestracja z mailem i hasłem, akceptacja regulaminu\").\n",
       "\n",
       "**Krok 2: Zrozumienie i Uszczegółowienie Procesu**\n",
       "*   **Agent Odpowiedzialny:** Requirement Analyst Agent\n",
       "*   **Działanie:**\n",
       "    1.  Zidentyfikuje kluczowe etapy procesu rejestracji (np. wprowadzenie danych, walidacja, akceptacja regulaminu, wysłanie na serwer, odpowiedź serwera, logowanie/przekierowanie).\n",
       "    2.  Określi aktora (Użytkownik) oraz systemy (Aplikacja Mobilna, System Backend), które będą odpowiadały za poszczególne akcje (jako swimlany).\n",
       "    3.  Zdefiniuje punkty decyzyjne (np. czy dane są poprawne, czy regulamin zaakceptowany, czy rejestracja zakończyła się sukcesem/błędem).\n",
       "    4.  Opisze możliwe ścieżki alternatywne i obsługę błędów (np. niepoprawne dane, błąd serwera).\n",
       "*   **Oczekiwany Rezultat:** Szczegółowy, tekstowy opis procesu rejestracji użytkownika, zawierający listę akcji, decyzji, aktorów/systemów oraz przepływów, przekazany do UML Modeler Agent.\n",
       "\n",
       "**Krok 3: Projektowanie Struktury Diagramu Aktywności**\n",
       "*   **Agent Odpowiedzialny:** UML Modeler Agent\n",
       "*   **Działanie:**\n",
       "    1.  Na podstawie opisu od Requirement Analyst Agent, przetłumaczy go na elementy diagramu aktywności.\n",
       "    2.  Zaproponuje strukturę diagramu, w tym:\n",
       "        *   Zdefiniowanie swimlanów (Użytkownik, Aplikacja Mobilna, System Backend).\n",
       "        *   Określenie początkowego i końcowego stanu.\n",
       "        *   Zidentyfikowanie głównych akcji.\n",
       "        *   Wskazanie punktów decyzyjnych i rozgałęzień.\n",
       "        *   Planowanie przepływów kontroli.\n",
       "*   **Oczekiwany Rezultat:** Szkic koncepcyjny lub lista kluczowych elementów diagramu aktywności, gotowa do implementacji. Może być to wstępna wersja diagramu w formie tekstowej (np. PlantUML, Mermaid) lub graficznej.\n",
       "\n",
       "**Krok 4: Generowanie Diagramu Aktywności**\n",
       "*   **Agent Odpowiedzialny:** UML Modeler Agent\n",
       "*   **Działanie:**\n",
       "    1.  Tworzy pełny diagram aktywności, korzystając z wybranej notacji i narzędzi UML.\n",
       "    2.  Upewnia się, że diagram jest czytelny, spójny i zgodny ze standardami UML.\n",
       "    3.  Włącza wszystkie zidentyfikowane swimlany, akcje, decyzje, rozgałęzienia i pętle.\n",
       "*   **Oczekiwany Rezultat:** Pierwsza, pełna wersja diagramu aktywności w akceptowalnym formacie (np. plik graficzny SVG/PNG, kod źródłowy PlantUML/Mermaid).\n",
       "\n",
       "**Krok 5: Weryfikacja i Kontrola Jakości (QA)**\n",
       "*   **Agent Odpowiedzialny:** Quality Assurance Agent\n",
       "*   **Działanie:**\n",
       "    1.  Sprawdza diagram pod kątem:\n",
       "        *   **Poprawności:** Czy diagram wiernie odzwierciedla opis procesu z Krok 2?\n",
       "        *   **Kompletności:** Czy wszystkie kluczowe akcje i decyzje zostały uwzględnione?\n",
       "        *   **Zgodności z UML:** Czy notacja jest prawidłowa i zgodna ze standardami?\n",
       "        *   **Czytelności:** Czy diagram jest łatwy do zrozumienia i nie jest zbyt skomplikowany?\n",
       "        *   **Logiki:** Czy przepływ jest logiczny i nie ma \"ślepych\" uliczek?\n",
       "    2.  Porównuje diagram z wymaganiami zdefiniowanymi przez Requirement Analyst Agent.\n",
       "*   **Oczekiwany Rezultat:** Raport QA zawierający listę znalezionych błędów, niejasności lub sugerowanych poprawek, przekazany do UML Modeler Agent.\n",
       "\n",
       "**Krok 6: Iteracja i Modyfikacje (jeśli wymagane)**\n",
       "*   **Agent Odpowiedzialny:** UML Modeler Agent\n",
       "*   **Działanie:**\n",
       "    1.  Analizuje raport QA.\n",
       "    2.  Wprowadza niezbędne poprawki i modyfikacje do diagramu aktywności.\n",
       "*   **Oczekiwany Rezultat:** Zaktualizowany diagram aktywności, uwzględniający uwagi z raportu QA. Jeśli lista poprawek była długa, może być wymagana ponowna weryfikacja przez QA.\n",
       "\n",
       "**Krok 7: Akceptacja i Finalizacja**\n",
       "*   **Agent Odpowiedzialny:** ManagerAgent\n",
       "*   **Działanie:**\n",
       "    1.  Przegląda ostateczną wersję diagramu aktywności.\n",
       "    2.  Potwierdza, że diagram spełnia wszystkie wymagania i jest zgodny z oczekiwaniami.\n",
       "    3.  Formalnie akceptuje diagram.\n",
       "    4.  Zapewnia, że finalny diagram zostanie zapisany w odpowiednim repozytorium dokumentacji projektu i udostępniony zainteresowanym stronom.\n",
       "*   **Oczekiwany Rezultat:** Finalny, zaakceptowany diagram aktywności procesu rejestracji użytkownika w aplikacji mobilnej, gotowy do wykorzystania.\n",
       "\n",
       "---\n",
       "\n",
       "Ten plan zapewnia systematyczne podejście do tworzenia diagramu, z jasnym podziałem odpowiedzialności i etapami weryfikacji, co minimalizuje ryzyko błędów i zapewnia wysoką jakość finalnego produktu."
      ]
     },
     "execution_count": 48,
     "metadata": {},
     "output_type": "execute_result"
    }
   ],
   "execution_count": 48
  }
 ],
 "metadata": {
  "kernelspec": {
   "display_name": "Kotlin",
   "language": "kotlin",
   "name": "kotlin"
  },
  "language_info": {
   "name": "kotlin",
   "version": "2.2.20-Beta2",
   "mimetype": "text/x-kotlin",
   "file_extension": ".kt",
   "pygments_lexer": "kotlin",
   "codemirror_mode": "text/x-kotlin",
   "nbconvert_exporter": ""
  },
  "ktnbPluginMetadata": {
   "projectDependencies": [
    "io-agents.main"
   ],
   "projectLibraries": false
  }
 },
 "nbformat": 4,
 "nbformat_minor": 0
}
