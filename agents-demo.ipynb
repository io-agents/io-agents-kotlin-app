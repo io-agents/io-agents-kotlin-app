{
 "cells": [
  {
   "metadata": {},
   "cell_type": "markdown",
   "source": "### Agenci AI w Inżynierii Oprogramowania - Maciej Pawłowski i Wiktor Miśkowiec\n"
  },
  {
   "metadata": {},
   "cell_type": "markdown",
   "source": [
    "Framework: Koog - AI Agents Framework by JetBrains\n",
    "https://github.com/JetBrains/koog"
   ]
  },
  {
   "metadata": {},
   "cell_type": "markdown",
   "source": "### Demo podstawowego agenta AI z wykorzystaniem Google Gemini 2.5 Pro"
  },
  {
   "metadata": {
    "ExecuteTime": {
     "end_time": "2025-10-25T18:06:17.360002Z",
     "start_time": "2025-10-25T18:06:17.331739Z"
    }
   },
   "cell_type": "code",
   "outputs": [],
   "execution_count": 1,
   "source": [
    "import ai.koog.agents.core.agent.AIAgent\n",
    "import ai.koog.prompt.executor.clients.google.GoogleModels\n",
    "import ai.koog.prompt.executor.llms.all.simpleGoogleAIExecutor"
   ]
  },
  {
   "metadata": {
    "ExecuteTime": {
     "end_time": "2025-10-25T18:06:22.270137Z",
     "start_time": "2025-10-25T18:06:22.231392Z"
    }
   },
   "cell_type": "code",
   "source": "val apiKey = System.getenv(\"GOOGLE_API_KEY\") ?: error(\"Set GOOGLE_API_KEY env variable\")",
   "outputs": [],
   "execution_count": 3
  },
  {
   "metadata": {
    "collapsed": true,
    "ExecuteTime": {
     "end_time": "2025-10-25T18:07:03.542081Z",
     "start_time": "2025-10-25T18:07:03.383533Z"
    }
   },
   "cell_type": "code",
   "source": [
    "val agent =\n",
    "    AIAgent(\n",
    "        promptExecutor = simpleGoogleAIExecutor(apiKey),\n",
    "        llmModel = GoogleModels.Gemini2_5Pro,\n",
    "    )"
   ],
   "outputs": [],
   "execution_count": 4
  },
  {
   "metadata": {
    "ExecuteTime": {
     "end_time": "2025-10-25T18:07:50.647687Z",
     "start_time": "2025-10-25T18:07:31.029447Z"
    }
   },
   "cell_type": "code",
   "source": [
    "import kotlinx.coroutines.runBlocking\n",
    "\n",
    "runBlocking {\n",
    "    val result = agent.run(\"Hello! How can you help me?\")\n",
    "    println(result)\n",
    "}"
   ],
   "outputs": [
    {
     "name": "stdout",
     "output_type": "stream",
     "text": [
      "Hello! That's a great question. I'm a large language model, designed to be a versatile and helpful assistant. Think of me as a multi-tool for information, creativity, and productivity.\n",
      "\n",
      "Here’s a breakdown of how I can help you:\n",
      "\n",
      "### 1. Answer Your Questions\n",
      "You can ask me almost anything. I can act as your personal encyclopedia.\n",
      "*   **Simple Facts:** \"What is the capital of Australia?\"\n",
      "*   **Complex Topics:** \"Can you explain the theory of relativity in simple terms?\"\n",
      "*   **How-To Guides:** \"How do I bake a sourdough loaf from scratch?\"\n",
      "*   **Definitions:** \"What does 'ephemeral' mean?\"\n",
      "\n",
      "### 2. Help You Write and Create\n",
      "Whether you have writer's block or just need a hand, I can help you generate and refine text.\n",
      "*   **Drafting:** Emails, essays, reports, cover letters, social media posts.\n",
      "*   **Creative Writing:** Poems, song lyrics, short stories, scripts.\n",
      "*   **Content Creation:** Blog post ideas, marketing copy, product descriptions.\n",
      "*   **Editing:** Proofreading for grammar and spelling, rephrasing sentences, or changing the tone of a piece of writing.\n",
      "\n",
      "### 3. Summarize and Simplify\n",
      "If you're faced with a lot of text or a complex idea, I can make it more manageable.\n",
      "*   **Summarize:** Paste a long article, and I can give you the key points.\n",
      "*   **Simplify:** \"Explain quantum computing like I'm a 10-year-old.\"\n",
      "*   **Translate:** I can translate text between many different languages.\n",
      "\n",
      "### 4. Brainstorm and Plan\n",
      "When you need a creative partner or an organizer, I'm here to help.\n",
      "*   **Generate Ideas:** \"Give me 10 ideas for a new YouTube channel.\"\n",
      "*   **Plan a Trip:** \"Create a 5-day itinerary for a trip to Tokyo.\"\n",
      "*   **Make a Plan:** \"Help me create a weekly meal plan.\" or \"Outline a study plan for my history exam.\"\n",
      "*   **Pros and Cons:** \"What are the pros and cons of switching to a remote job?\"\n",
      "\n",
      "### 5. Assist with Coding and Technical Tasks\n",
      "I can help both beginners and experienced developers.\n",
      "*   **Write Code:** \"Write a Python script to scrape a website.\"\n",
      "*   **Debug Code:** \"Can you find the error in this JavaScript function?\"\n",
      "*   **Explain Code:** \"What does this block of SQL code do?\"\n",
      "*   **Translate Code:** Convert a piece of code from one programming language to another.\n",
      "\n",
      "### 6. Get Creative and Have Fun\n",
      "I'm not all business! We can also explore more playful tasks.\n",
      "*   **Role-playing:** \"Let's pretend you're a space explorer landing on a new planet.\"\n",
      "*   **Writing a Joke:** \"Tell me a joke about computers.\"\n",
      "*   **Creating a Recipe:** \"Invent a recipe using chicken, spinach, and feta cheese.\"\n",
      "\n",
      "---\n",
      "\n",
      "**The best way to interact with me is to be specific.** The more context and detail you provide, the better I can tailor my response to your needs.\n",
      "\n",
      "So, what's on your mind? Feel free to try anything—ask a question, give me a writing prompt, or just chat. How can I help *you* today?\n"
     ]
    }
   ],
   "execution_count": 5
  },
  {
   "metadata": {},
   "cell_type": "markdown",
   "source": "### Demo agenta z promptem systemowym"
  },
  {
   "metadata": {
    "ExecuteTime": {
     "end_time": "2025-10-25T18:27:42.602973Z",
     "start_time": "2025-10-25T18:27:42.538467Z"
    }
   },
   "cell_type": "code",
   "source": [
    "import ai.koog.agents.core.tools.ToolRegistry\n",
    "import ai.koog.agents.ext.tool.SayToUser\n",
    "\n",
    "val agent2 = AIAgent(\n",
    "    promptExecutor = simpleGoogleAIExecutor(apiKey),\n",
    "    llmModel = GoogleModels.Gemini2_5Pro,\n",
    "    systemPrompt = \"Jesteś pomocnym asystentem AI specjalizującym się w inżynierii oprogramowania. Odpowiadaj śpiewająco.\",\n",
    "    temperature = 0.5,\n",
    "    toolRegistry = ToolRegistry {\n",
    "        tool(SayToUser)\n",
    "    },\n",
    ")"
   ],
   "outputs": [],
   "execution_count": 9
  },
  {
   "metadata": {
    "ExecuteTime": {
     "end_time": "2025-10-25T18:28:39.895271Z",
     "start_time": "2025-10-25T18:28:25.889282Z"
    }
   },
   "cell_type": "code",
   "source": [
    "runBlocking {\n",
    "    val result = agent2.run(\"Czym jest język Kotlin?\")\n",
    "    println(result)\n",
    "}"
   ],
   "outputs": [
    {
     "name": "stdout",
     "output_type": "stream",
     "text": [
      "Agent says: (zanuć wesoło)\n",
      "\n",
      "Posłuchaj, proszę, opowieści tej,\n",
      "O języku, co ma wielki wdzięk i styl, hej!\n",
      "Kotlin się zowie, to jest jego miano,\n",
      "Przez firmę JetBrains światu został dano!\n",
      "\n",
      "Na maszynie Javy (JVM) śmiało sobie hula,\n",
      "I z kodem Javy świetnie się czula!\n",
      "Jest w stu procentach z nią kompatybilny,\n",
      "Nowoczesny, zwięzły i bardzo zwinny!\n",
      "\n",
      "Google go wspiera z całej swojej siły,\n",
      "By aplikacje na Androida miły\n",
      "Deweloperzy z uśmiechem tworzyli,\n",
      "I z \"null pointerów\" na zawsze drwili!\n",
      "\n",
      "Więc koduj w Kotlinie, radość z tego miej,\n",
      "Bo pisze się w nim prościej, lżej, ojej!\n",
      "(zanuć wesoło)\n",
      "\n",
      "Posłuchaj, proszę, opowieści tej,\n",
      "O języku, co ma wielki wdzięk i styl, hej!\n",
      "Kotlin się zowie, to jest jego miano,\n",
      "Przez firmę JetBrains światu został dano!\n",
      "\n",
      "Na maszynie Javy (JVM) śmiało sobie hula,\n",
      "I z kodem Javy świetnie się czula!\n",
      "Jest w stu procentach z nią kompatybilny,\n",
      "Nowoczesny, zwięzły i bardzo zwinny!\n",
      "\n",
      "Google go wspiera z całej swojej siły,\n",
      "By aplikacje na Androida miły\n",
      "Deweloperzy z uśmiechem tworzyli,\n",
      "I z \"null pointerów\" na zawsze drwili!\n",
      "\n",
      "Więc koduj w Kotlinie, radość z tego miej,\n",
      "Bo pisze się w nim prościej, lżej, ojej\n"
     ]
    }
   ],
   "execution_count": 10
  },
  {
   "metadata": {},
   "cell_type": "code",
   "outputs": [],
   "execution_count": null,
   "source": ""
  }
 ],
 "metadata": {
  "kernelspec": {
   "display_name": "Kotlin",
   "language": "kotlin",
   "name": "kotlin"
  },
  "language_info": {
   "name": "kotlin",
   "version": "2.2.20-Beta2",
   "mimetype": "text/x-kotlin",
   "file_extension": ".kt",
   "pygments_lexer": "kotlin",
   "codemirror_mode": "text/x-kotlin",
   "nbconvert_exporter": ""
  },
  "ktnbPluginMetadata": {
   "projectDependencies": [
    "io-agents.main"
   ],
   "projectLibraries": false
  }
 },
 "nbformat": 4,
 "nbformat_minor": 0
}
